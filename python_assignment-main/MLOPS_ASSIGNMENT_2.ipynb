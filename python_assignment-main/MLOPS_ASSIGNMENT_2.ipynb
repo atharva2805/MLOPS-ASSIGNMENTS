{
 "cells": [
  {
   "cell_type": "code",
   "execution_count": 1,
   "id": "06b449f5",
   "metadata": {},
   "outputs": [],
   "source": [
    "import pandas as pd\n",
    "from fastapi import FastAPI\n",
    "from pydantic import BaseModel\n",
    "from typing import List\n",
    "from sklearn.model_selection import train_test_split\n",
    "from sklearn.linear_model import LinearRegression\n",
    "from sklearn.preprocessing import StandardScaler\n",
    "import uvicorn\n",
    "import nest_asyncio\n",
    "\n",
    "\n",
    "nest_asyncio.apply()\n"
   ]
  },
  {
   "cell_type": "code",
   "execution_count": 2,
   "id": "859ba1fc",
   "metadata": {},
   "outputs": [],
   "source": [
    "class HousePricePredictor:\n",
    "    def __init__(self):\n",
    "        self.model = LinearRegression()\n",
    "        self.scaler = StandardScaler()\n",
    "        self._train_model()\n",
    "    \n",
    "    def _train_model(self):\n",
    "        df = pd.read_csv('train.csv')\n",
    "        X = df[['OverallQual', 'GrLivArea', 'GarageCars', 'TotalBsmtSF', 'FullBath', 'YearBuilt']]\n",
    "        y = df['SalePrice']\n",
    "        X_scaled = self.scaler.fit_transform(X)\n",
    "        X_train, X_test, y_train, y_test = train_test_split(X_scaled, y, test_size=0.2, random_state=42)\n",
    "        self.model.fit(X_train, y_train)\n",
    "    \n",
    "    def predict(self, features):\n",
    "        features_scaled = self.scaler.transform([features])\n",
    "        prediction = self.model.predict(features_scaled)\n",
    "        return prediction[0]\n"
   ]
  },
  {
   "cell_type": "code",
   "execution_count": 3,
   "id": "88f389ee",
   "metadata": {},
   "outputs": [],
   "source": [
    "app = FastAPI()\n",
    "predictor = HousePricePredictor()\n",
    "\n",
    "class HouseFeatures(BaseModel):\n",
    "    OverallQual: int\n",
    "    GrLivArea: float\n",
    "    GarageCars: int\n",
    "    TotalBsmtSF: float\n",
    "    FullBath: int\n",
    "    YearBuilt: int\n",
    "\n",
    "@app.post(\"/predict\")\n",
    "def predict_price(features: HouseFeatures):\n",
    "    features_list = [\n",
    "        features.OverallQual,\n",
    "        features.GrLivArea,\n",
    "        features.GarageCars,\n",
    "        features.TotalBsmtSF,\n",
    "        features.FullBath,\n",
    "        features.YearBuilt,\n",
    "    ]\n",
    "    predicted_price = predictor.predict(features_list)\n",
    "    return {\"predicted_price\": predicted_price}\n"
   ]
  },
  {
   "cell_type": "code",
   "execution_count": null,
   "id": "fa3d0231",
   "metadata": {},
   "outputs": [
    {
     "name": "stderr",
     "output_type": "stream",
     "text": [
      "INFO:     Started server process [28420]\n",
      "INFO:     Waiting for application startup.\n",
      "INFO:     Application startup complete.\n",
      "INFO:     Uvicorn running on http://127.0.0.1:8001 (Press CTRL+C to quit)\n"
     ]
    },
    {
     "name": "stdout",
     "output_type": "stream",
     "text": [
      "INFO:     127.0.0.1:61826 - \"GET / HTTP/1.1\" 404 Not Found\n",
      "INFO:     127.0.0.1:61826 - \"GET /favicon.ico HTTP/1.1\" 404 Not Found\n",
      "INFO:     127.0.0.1:61853 - \"GET /docs HTTP/1.1\" 200 OK\n",
      "INFO:     127.0.0.1:61853 - \"GET /openapi.json HTTP/1.1\" 200 OK\n",
      "INFO:     127.0.0.1:61854 - \"GET / HTTP/1.1\" 404 Not Found\n",
      "INFO:     127.0.0.1:61862 - \"POST /predict HTTP/1.1\" 200 OK\n"
     ]
    },
    {
     "name": "stderr",
     "output_type": "stream",
     "text": [
      "C:\\python\\lib\\site-packages\\sklearn\\base.py:450: UserWarning: X does not have valid feature names, but StandardScaler was fitted with feature names\n",
      "  warnings.warn(\n"
     ]
    },
    {
     "name": "stdout",
     "output_type": "stream",
     "text": [
      "INFO:     127.0.0.1:61873 - \"GET / HTTP/1.1\" 404 Not Found\n"
     ]
    }
   ],
   "source": [
    "if __name__ == \"__main__\":\n",
    "    uvicorn.run(app, host=\"127.0.0.1\", port=8001)\n"
   ]
  },
  {
   "cell_type": "code",
   "execution_count": null,
   "id": "1cc09306",
   "metadata": {},
   "outputs": [],
   "source": []
  }
 ],
 "metadata": {
  "kernelspec": {
   "display_name": "Python 3 (ipykernel)",
   "language": "python",
   "name": "python3"
  },
  "language_info": {
   "codemirror_mode": {
    "name": "ipython",
    "version": 3
   },
   "file_extension": ".py",
   "mimetype": "text/x-python",
   "name": "python",
   "nbconvert_exporter": "python",
   "pygments_lexer": "ipython3",
   "version": "3.9.13"
  }
 },
 "nbformat": 4,
 "nbformat_minor": 5
}
